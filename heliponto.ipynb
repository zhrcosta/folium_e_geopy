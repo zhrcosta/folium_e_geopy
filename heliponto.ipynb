{
 "metadata": {
  "language_info": {
   "codemirror_mode": {
    "name": "ipython",
    "version": 3
   },
   "file_extension": ".py",
   "mimetype": "text/x-python",
   "name": "python",
   "nbconvert_exporter": "python",
   "pygments_lexer": "ipython3",
   "version": "3.7.10-final"
  },
  "orig_nbformat": 2,
  "kernelspec": {
   "name": "python3",
   "display_name": "Python 3.7.10 64-bit ('k37': conda)",
   "metadata": {
    "interpreter": {
     "hash": "ce6995e5260f3d17ba777f99880eb99bb4499d971ce283740a27659aee3a2981"
    }
   }
  }
 },
 "nbformat": 4,
 "nbformat_minor": 2,
 "cells": [
  {
   "cell_type": "code",
   "execution_count": 1,
   "metadata": {},
   "outputs": [],
   "source": [
    "import folium\n",
    "import pandas as pd\n",
    "from geopy.point import Point\n",
    "from geopy.geocoders import Nominatim"
   ]
  },
  {
   "cell_type": "code",
   "execution_count": 2,
   "metadata": {},
   "outputs": [],
   "source": [
    "csv_file = pd.read_csv(\"data/helipontos_11set2020.csv\", sep=\";\", skiprows=2)"
   ]
  },
  {
   "cell_type": "code",
   "execution_count": 3,
   "metadata": {},
   "outputs": [],
   "source": [
    "name = Nominatim(user_agent=\"zhr\")\n",
    "contry = name.geocode(\"Brasil\")\n",
    "\n",
    "latitude = csv_file.Latitude\n",
    "longitude = csv_file.Longitude\n",
    "\n",
    "heli_map = folium.Map(location=[contry.latitude, contry.longitude], tiles=\"CartoDB dark_matter\",zoom_start=4.5)\n",
    "\n",
    "\n",
    "for index in range(csv_file.shape[0]):\n",
    "\n",
    "    #dim = float(csv_file.iloc[index,11].replace(\",\",\".\").replace(\"m\",\"\").split(\"x\")[-1]) / 2 \n",
    "\n",
    "    #dim = (csv_file.iloc[index,11].replace(\",\",\".\").replace(\"m\",\"\")).split(\"x\")[-1]\n",
    "    #dim = float(dim) / 2\n",
    "\n",
    "    lat_Str = latitude[index].replace(chr(65533), \" \").replace(\"'\",\"m \").replace(\",\",\".\").replace('\"',\"s \")\n",
    "    lng_Str = (longitude[index][:-1] + \"W\").replace(chr(65533),\" \").replace(\"'\",\"m \").replace(\",\",\".\").replace('\"',\"s \")\n",
    "\n",
    "    lat, lng = Point(f'{lat_Str} {lng_Str}')[0:2]\n",
    "    coords = [lat,lng]\n",
    "    folium.Circle(location=coords, color=\"red\", fill=True, radius=15).add_to(heli_map)\n",
    "\n",
    "image_map = folium.Figure(width=1280, height=720)\n",
    "image_map.add_child(heli_map)\n",
    "\n",
    "heli_map.save(\"maps/helipontos_do_brasil.html\")"
   ]
  },
  {
   "cell_type": "code",
   "execution_count": 5,
   "metadata": {},
   "outputs": [],
   "source": [
    "# image_map"
   ]
  },
  {
   "cell_type": "code",
   "execution_count": null,
   "metadata": {},
   "outputs": [],
   "source": []
  }
 ]
}