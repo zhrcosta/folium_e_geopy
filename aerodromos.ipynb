{
 "metadata": {
  "language_info": {
   "codemirror_mode": {
    "name": "ipython",
    "version": 3
   },
   "file_extension": ".py",
   "mimetype": "text/x-python",
   "name": "python",
   "nbconvert_exporter": "python",
   "pygments_lexer": "ipython3",
   "version": "3.7.10"
  },
  "orig_nbformat": 2,
  "kernelspec": {
   "name": "python3",
   "display_name": "Python 3.7.10 64-bit ('k37': conda)",
   "metadata": {
    "interpreter": {
     "hash": "ce6995e5260f3d17ba777f99880eb99bb4499d971ce283740a27659aee3a2981"
    }
   }
  }
 },
 "nbformat": 4,
 "nbformat_minor": 2,
 "cells": [
  {
   "cell_type": "code",
   "execution_count": 6,
   "metadata": {},
   "outputs": [],
   "source": [
    "import ipywidgets as ipw\n",
    "\n",
    "heliponto = ipw.Checkbox(value=False, description=\"Helipontos\")\n",
    "aero_publicos = ipw.Checkbox(value=False, description=\"Aeroportos Públicos\")\n",
    "aero_privados = ipw.Checkbox(value=False, description=\"Aeroportos Privados\")\n",
    "\n",
    "def mapa_aerodromo(heli, publico, privado):\n",
    "    import pandas as pd\n",
    "    from geopy.point import Point\n",
    "    import geopy\n",
    "    import folium\n",
    "\n",
    "    name = geopy.Nominatim(user_agent=\"test\")\n",
    "    place = name.geocode(\"Brasil\")\n",
    "\n",
    "    mapa = folium.Map(location=[place.latitude, place.longitude], zoom_start=4.5 ,tiles=\"CartoDB dark_matter\")\n",
    "\n",
    "    # Seção que adicionas os marcadores referentes aos helipontos\n",
    "    if heli:\n",
    "        csv_file = pd.read_csv(\"data/helipontos_11set2020.csv\", sep=\";\", skiprows=2)\n",
    "\n",
    "        latitude = csv_file.Latitude\n",
    "        longitude = csv_file.Longitude\n",
    "\n",
    "        for index in range(csv_file.shape[0]):\n",
    "\n",
    "            lat_Str = latitude[index].replace(chr(65533), \" \").replace(\"'\",\"m \").replace(\",\",\".\").replace('\"',\"s \")\n",
    "            lng_Str = (longitude[index][:-1] + \"W\").replace(chr(65533),\" \").replace(\"'\",\"m \").replace(\",\",\".\").replace('\"',\"s \")\n",
    "\n",
    "            lat, lng = Point(f'{lat_Str} {lng_Str}')[0:2]\n",
    "            coords = [lat,lng]\n",
    "            folium.Circle(location=coords, color=\"red\", fill=True, radius=15).add_to(mapa)\n",
    "\n",
    "    # Seção que adicionas os marcadores referentes aos aeroportos públicos\n",
    "    if publico:\n",
    "        csv_file = pd.read_csv(\"data/cadastro-de-aerodromos-civis-publicos.csv\", sep=\";\", skiprows=2)\n",
    "\n",
    "        latitude = csv_file.LATITUDE\n",
    "        longitude = csv_file.LONGITUDE\n",
    "\n",
    "        for index in range(csv_file.shape[0]):\n",
    "            lat, lng = Point(f'{latitude[index]} {longitude[index]}')[0:2]\n",
    "            coord = [lat, lng]\n",
    "            folium.Circle(location=coord, color=\"blue\", fill=True, radius=700).add_to(mapa)\n",
    "\n",
    "    # Seção que adicionas os marcadores referentes aos aeroportos privados\n",
    "    if privado:\n",
    "        csv_file = pd.read_csv(\"data/cadastro-de-aerodromos-civis-privados.csv\", sep=\";\", skiprows=2)\n",
    "\n",
    "        latitude = csv_file.Latitude\n",
    "        longitude = csv_file.Longitude\n",
    "\n",
    "        for index in range(csv_file.shape[0]):\n",
    "\n",
    "            lat_Str = latitude[index].replace(chr(65533), \" \").replace(\"'\",\"m \").replace(\",\",\".\").replace('\"',\"s \")\n",
    "            lng_Str = (longitude[index][:-1] + \"W\").replace(chr(65533),\" \").replace(\"'\",\"m \").replace(\",\",\".\").replace('\"',\"s \")\n",
    "            \n",
    "            lat, lng = Point(f'{lat_Str} {lng_Str}')[0:2]\n",
    "            coords = [lat,lng]\n",
    "            folium.Circle(location=coords, color=\"green\", fill=True, radius=800).add_to(mapa)\n",
    "        \n",
    "\n",
    "    image_map = folium.Figure(width=1280, height=720)\n",
    "    image_map.add_child(mapa)\n",
    "\n",
    "    return image_map"
   ]
  },
  {
   "cell_type": "code",
   "execution_count": 7,
   "metadata": {},
   "outputs": [
    {
     "output_type": "display_data",
     "data": {
      "text/plain": "interactive(children=(Checkbox(value=False, description='Helipontos'), Checkbox(value=False, description='Aero…",
      "application/vnd.jupyter.widget-view+json": {
       "version_major": 2,
       "version_minor": 0,
       "model_id": "642c903710b647c8b498a4b5ebd9e277"
      }
     },
     "metadata": {}
    },
    {
     "output_type": "execute_result",
     "data": {
      "text/plain": [
       "<function __main__.mapa_aerodromo(heli, publico, privado)>"
      ]
     },
     "metadata": {},
     "execution_count": 7
    }
   ],
   "source": [
    "ipw.interact(mapa_aerodromo, heli=heliponto, publico=aero_publicos, privado=aero_privados)"
   ]
  },
  {
   "cell_type": "code",
   "execution_count": null,
   "metadata": {},
   "outputs": [],
   "source": []
  }
 ]
}