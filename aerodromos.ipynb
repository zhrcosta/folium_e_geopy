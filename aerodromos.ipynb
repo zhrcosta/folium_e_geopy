{
 "metadata": {
  "language_info": {
   "codemirror_mode": {
    "name": "ipython",
    "version": 3
   },
   "file_extension": ".py",
   "mimetype": "text/x-python",
   "name": "python",
   "nbconvert_exporter": "python",
   "pygments_lexer": "ipython3",
   "version": "3.7.10"
  },
  "orig_nbformat": 2,
  "kernelspec": {
   "name": "python3",
   "display_name": "Python 3.7.10 64-bit ('k37': conda)",
   "metadata": {
    "interpreter": {
     "hash": "ce6995e5260f3d17ba777f99880eb99bb4499d971ce283740a27659aee3a2981"
    }
   }
  }
 },
 "nbformat": 4,
 "nbformat_minor": 2,
 "cells": [
  {
   "cell_type": "code",
   "execution_count": 45,
   "metadata": {},
   "outputs": [],
   "source": [
    "import ipywidgets as ipw\n",
    "\n",
    "heliponto = ipw.Checkbox(value=False, description=\"Helipontos\")\n",
    "aero_publicos = ipw.Checkbox(value=False, description=\"Aeroportos Públicos\")\n",
    "aero_privados = ipw.Checkbox(value=False, description=\"Aeroportos Privados\")\n",
    "menu_stl = ipw.Dropdown(options=['cartodbdark_matter','cartodbpositron','stamenwatercolor','stamentoner','stamenterrain','openstreetmap'], description=\"Map Style\", value='openstreetmap')\n",
    "\n",
    "def mapa_aerodromo(heli, publico, privado, style):\n",
    "    import pandas as pd\n",
    "    from geopy.point import Point\n",
    "    import geopy\n",
    "    import folium\n",
    "\n",
    "    mapa = folium.Map(location=[-12.874031599126745, -54.48977276376553], zoom_start=4.5 ,tiles=style)\n",
    "\n",
    "    # Seção que adicionas os marcadores referentes aos helipontos\n",
    "    if heli:\n",
    "        csv_file = pd.read_csv(\"data/helipontos_11set2020.csv\", sep=\";\", skiprows=2)\n",
    "\n",
    "        latitude = csv_file.Latitude\n",
    "        longitude = csv_file.Longitude\n",
    "\n",
    "        for index in range(csv_file.shape[0]):\n",
    "\n",
    "            lat_Str = latitude[index].replace(chr(65533), \" \").replace(\"'\",\"m \").replace(\",\",\".\").replace('\"',\"s \")\n",
    "            lng_Str = (longitude[index][:-1] + \"W\").replace(chr(65533),\" \").replace(\"'\",\"m \").replace(\",\",\".\").replace('\"',\"s \")\n",
    "            lat, lng = Point(f'{lat_Str} {lng_Str}')[0:2]\n",
    "            coords = [lat,lng]\n",
    "            msg = f'Coordenadas:<br>{lat:.5f},{lng:.5f}<br><br>Dimesões:<br>{csv_file.iloc[index,11]}<br><br>Altitude: {csv_file.iloc[index, 7]}'\n",
    "            folium.Circle(location=coords, color=\"red\", fill=True, radius=15, popup=msg).add_to(mapa)\n",
    "\n",
    "    # Seção que adicionas os marcadores referentes aos aeroportos públicos\n",
    "    if publico:\n",
    "        csv_file = pd.read_csv(\"data/cadastro-de-aerodromos-civis-publicos.csv\", sep=\";\", skiprows=2)\n",
    "\n",
    "        latitude = csv_file.LATITUDE\n",
    "        longitude = csv_file.LONGITUDE\n",
    "\n",
    "        for index in range(csv_file.shape[0]):\n",
    "            lat, lng = Point(f'{latitude[index]} {longitude[index]}')[0:2]\n",
    "            coord = [lat, lng]\n",
    "            folium.Circle(location=coord, color=\"blue\", fill=True, radius=700).add_to(mapa)\n",
    "\n",
    "    # Seção que adicionas os marcadores referentes aos aeroportos privados\n",
    "    if privado:\n",
    "        csv_file = pd.read_csv(\"data/cadastro-de-aerodromos-civis-privados.csv\", sep=\";\", skiprows=2)\n",
    "\n",
    "        latitude = csv_file.Latitude\n",
    "        longitude = csv_file.Longitude\n",
    "\n",
    "        for index in range(csv_file.shape[0]):\n",
    "\n",
    "            lat_Str = latitude[index].replace(chr(65533), \" \").replace(\"'\",\"m \").replace(\",\",\".\").replace('\"',\"s \")\n",
    "            lng_Str = (longitude[index][:-1] + \"W\").replace(chr(65533),\" \").replace(\"'\",\"m \").replace(\",\",\".\").replace('\"',\"s \")\n",
    "            \n",
    "            lat, lng = Point(f'{lat_Str} {lng_Str}')[0:2]\n",
    "            coords = [lat,lng]\n",
    "            folium.Circle(location=coords, color=\"green\", fill=True, radius=800).add_to(mapa)\n",
    "        \n",
    "\n",
    "    image_map = folium.Figure(width=1280, height=720)\n",
    "    image_map.add_child(mapa)\n",
    "\n",
    "    return image_map"
   ]
  },
  {
   "cell_type": "code",
   "execution_count": 46,
   "metadata": {},
   "outputs": [
    {
     "output_type": "display_data",
     "data": {
      "text/plain": "interactive(children=(Checkbox(value=False, description='Helipontos'), Checkbox(value=False, description='Aero…",
      "application/vnd.jupyter.widget-view+json": {
       "version_major": 2,
       "version_minor": 0,
       "model_id": "3172968f3e164e2ca310f630f4778c6c"
      }
     },
     "metadata": {}
    },
    {
     "output_type": "execute_result",
     "data": {
      "text/plain": [
       "<function __main__.mapa_aerodromo(heli, publico, privado, style)>"
      ]
     },
     "metadata": {},
     "execution_count": 46
    }
   ],
   "source": [
    "ipw.interact(mapa_aerodromo, heli=heliponto, publico=aero_publicos, privado=aero_privados, style = menu_stl)"
   ]
  },
  {
   "cell_type": "code",
   "execution_count": 42,
   "metadata": {},
   "outputs": [],
   "source": [
    "csv_file = pd.read_csv(\"data/helipontos_11set2020.csv\", sep=\";\", skiprows=2)"
   ]
  },
  {
   "cell_type": "code",
   "execution_count": 28,
   "metadata": {},
   "outputs": [
    {
     "output_type": "execute_result",
     "data": {
      "text/plain": [
       "0    19,56m x 19,56m\n",
       "2      19,5m x 19,5m\n",
       "3      19,5m x 19,5m\n",
       "Name: Dimens�es, dtype: object"
      ]
     },
     "metadata": {},
     "execution_count": 28
    }
   ],
   "source": [
    "csv_file.iloc[,11]"
   ]
  },
  {
   "cell_type": "code",
   "execution_count": 37,
   "metadata": {},
   "outputs": [
    {
     "output_type": "execute_result",
     "data": {
      "text/plain": [
       "     C�digo OACI    CIAD                            Nome  \\\n",
       "0           SSHJ  SP0750                              JC   \n",
       "1           SILV  SP0524                            VOCP   \n",
       "2           SWVM  MG0288                    Vinte e Oito   \n",
       "3           SNBO  CE0134                Botelho Belchior   \n",
       "4           SNRY  MG0259                         Bissoli   \n",
       "...          ...     ...                             ...   \n",
       "1276        SSRI  BA0222            Ilhota dos Coqueiros   \n",
       "1277        SDZE  SP0458                             Ita   \n",
       "1278        SWCN  RJ0152  Instituto de Ci�ncias N�uticas   \n",
       "1279        SIDD  AL0015                Fazenda S�o Braz   \n",
       "1280        SJHB  PE0036         Real Hospital Portugu�s   \n",
       "\n",
       "                   Munic�pio              UF      Longitude      Latitude  \\\n",
       "0                     OSASCO       S�o Paulo  046�46'56,0\"O  23�32'02,0\"S   \n",
       "1                  S�O PAULO       S�o Paulo  046�41'20,0\"O  23�35'40,0\"S   \n",
       "2             BELO HORIZONTE    Minas Gerais  043�57'30,0\"O  19�57'46,0\"S   \n",
       "3                    ARATUBA           Cear�  039�02'03,0\"O  04�22'43,0\"S   \n",
       "4             BELO HORIZONTE    Minas Gerais  043�56'06,0\"O  19�58'22,0\"S   \n",
       "...                      ...             ...            ...           ...   \n",
       "1276                SALVADOR           Bahia  038�39'00,0\"O  12�45'59,0\"S   \n",
       "1277    ITAPECERICA DA SERRA       S�o Paulo  046�49'43,0\"O  23�42'05,0\"S   \n",
       "1278                  MARIC�  Rio de Janeiro  042�56'55,0\"O  22�56'04,0\"S   \n",
       "1279  BARRA DE SANTO ANT�NIO         Alagoas  035�30'29,8\"O  09�22'46,5\"S   \n",
       "1280                  RECIFE      Pernambuco  034�53'52,0\"O  08�03'50,0\"S   \n",
       "\n",
       "     Altitude            Opera��o Rampa de Aproxima��o  \\\n",
       "0         776  VFR Diurna/Noturna                   14   \n",
       "1         811  VFR Diurna/Noturna                    8   \n",
       "2        1018  VFR Diurna/Noturna                   14   \n",
       "3         768  VFR Diurna/Noturna                   16   \n",
       "4        1162          VFR Diurna                   19   \n",
       "...       ...                 ...                  ...   \n",
       "1276        4  VFR Diurna/Noturna                  NaN   \n",
       "1277      804  VFR Diurna/Noturna                  NaN   \n",
       "1278        7          VFR Diurna                  NaN   \n",
       "1279        6          VFR Diurna                  NaN   \n",
       "1280       68  VFR Diurna/Noturna                  NaN   \n",
       "\n",
       "     Formato da �rea de Pouso        Dimens�es Resist�ncia Superf�cie  \\\n",
       "0                    Quadrado  19,56m x 19,56m           4   Concreto   \n",
       "1                    Quadrado        21m x 21m         4,5   Concreto   \n",
       "2                    Quadrado    19,5m x 19,5m           4   Concreto   \n",
       "3                    Quadrado    19,5m x 19,5m           4   Concreto   \n",
       "4                    Quadrado        20m x 20m           4   Concreto   \n",
       "...                       ...              ...         ...        ...   \n",
       "1276                 Circular        28m x 28m         4,5   Concreto   \n",
       "1277                 Circular        12m x 12m           4   Concreto   \n",
       "1278                 Circular        20m x 20m           3   Concreto   \n",
       "1279                 Circular        26m x 26m           3   Concreto   \n",
       "1280                 Circular        18m x 18m           2   Concreto   \n",
       "\n",
       "     Validade do Registro Portaria de Registro  \\\n",
       "0              23/03/2027          PA2017-0839   \n",
       "1              14/03/2028          PA2018-0647   \n",
       "2              29/05/2023          PA2013-1397   \n",
       "3              13/02/2030            PA2019-69   \n",
       "4              19/12/2023          PA2016-2100   \n",
       "...                   ...                  ...   \n",
       "1276           01/03/2026          PA2016-0437   \n",
       "1277           14/09/2025          PA2015-2400   \n",
       "1278           07/12/2027          PA2017-3941   \n",
       "1279           02/10/2025          PA2015-2604   \n",
       "1280                  NaN                  NaN   \n",
       "\n",
       "                                          Link Portaria  \n",
       "0     https://pergamum.anac.gov.br/arquivos/PA2017-0839  \n",
       "1     https://pergamum.anac.gov.br/arquivos/PA2018-0647  \n",
       "2     https://pergamum.anac.gov.br/arquivos/PA2013-1397  \n",
       "3       https://pergamum.anac.gov.br/arquivos/PA2019-69  \n",
       "4     https://pergamum.anac.gov.br/arquivos/PA2016-2100  \n",
       "...                                                 ...  \n",
       "1276  https://pergamum.anac.gov.br/arquivos/PA2016-0437  \n",
       "1277  https://pergamum.anac.gov.br/arquivos/PA2015-2400  \n",
       "1278  https://pergamum.anac.gov.br/arquivos/PA2017-3941  \n",
       "1279  https://pergamum.anac.gov.br/arquivos/PA2015-2604  \n",
       "1280                                                NaN  \n",
       "\n",
       "[1281 rows x 17 columns]"
      ],
      "text/html": "<div>\n<style scoped>\n    .dataframe tbody tr th:only-of-type {\n        vertical-align: middle;\n    }\n\n    .dataframe tbody tr th {\n        vertical-align: top;\n    }\n\n    .dataframe thead th {\n        text-align: right;\n    }\n</style>\n<table border=\"1\" class=\"dataframe\">\n  <thead>\n    <tr style=\"text-align: right;\">\n      <th></th>\n      <th>C�digo OACI</th>\n      <th>CIAD</th>\n      <th>Nome</th>\n      <th>Munic�pio</th>\n      <th>UF</th>\n      <th>Longitude</th>\n      <th>Latitude</th>\n      <th>Altitude</th>\n      <th>Opera��o</th>\n      <th>Rampa de Aproxima��o</th>\n      <th>Formato da �rea de Pouso</th>\n      <th>Dimens�es</th>\n      <th>Resist�ncia</th>\n      <th>Superf�cie</th>\n      <th>Validade do Registro</th>\n      <th>Portaria de Registro</th>\n      <th>Link Portaria</th>\n    </tr>\n  </thead>\n  <tbody>\n    <tr>\n      <th>0</th>\n      <td>SSHJ</td>\n      <td>SP0750</td>\n      <td>JC</td>\n      <td>OSASCO</td>\n      <td>S�o Paulo</td>\n      <td>046�46'56,0\"O</td>\n      <td>23�32'02,0\"S</td>\n      <td>776</td>\n      <td>VFR Diurna/Noturna</td>\n      <td>14</td>\n      <td>Quadrado</td>\n      <td>19,56m x 19,56m</td>\n      <td>4</td>\n      <td>Concreto</td>\n      <td>23/03/2027</td>\n      <td>PA2017-0839</td>\n      <td>https://pergamum.anac.gov.br/arquivos/PA2017-0839</td>\n    </tr>\n    <tr>\n      <th>1</th>\n      <td>SILV</td>\n      <td>SP0524</td>\n      <td>VOCP</td>\n      <td>S�O PAULO</td>\n      <td>S�o Paulo</td>\n      <td>046�41'20,0\"O</td>\n      <td>23�35'40,0\"S</td>\n      <td>811</td>\n      <td>VFR Diurna/Noturna</td>\n      <td>8</td>\n      <td>Quadrado</td>\n      <td>21m x 21m</td>\n      <td>4,5</td>\n      <td>Concreto</td>\n      <td>14/03/2028</td>\n      <td>PA2018-0647</td>\n      <td>https://pergamum.anac.gov.br/arquivos/PA2018-0647</td>\n    </tr>\n    <tr>\n      <th>2</th>\n      <td>SWVM</td>\n      <td>MG0288</td>\n      <td>Vinte e Oito</td>\n      <td>BELO HORIZONTE</td>\n      <td>Minas Gerais</td>\n      <td>043�57'30,0\"O</td>\n      <td>19�57'46,0\"S</td>\n      <td>1018</td>\n      <td>VFR Diurna/Noturna</td>\n      <td>14</td>\n      <td>Quadrado</td>\n      <td>19,5m x 19,5m</td>\n      <td>4</td>\n      <td>Concreto</td>\n      <td>29/05/2023</td>\n      <td>PA2013-1397</td>\n      <td>https://pergamum.anac.gov.br/arquivos/PA2013-1397</td>\n    </tr>\n    <tr>\n      <th>3</th>\n      <td>SNBO</td>\n      <td>CE0134</td>\n      <td>Botelho Belchior</td>\n      <td>ARATUBA</td>\n      <td>Cear�</td>\n      <td>039�02'03,0\"O</td>\n      <td>04�22'43,0\"S</td>\n      <td>768</td>\n      <td>VFR Diurna/Noturna</td>\n      <td>16</td>\n      <td>Quadrado</td>\n      <td>19,5m x 19,5m</td>\n      <td>4</td>\n      <td>Concreto</td>\n      <td>13/02/2030</td>\n      <td>PA2019-69</td>\n      <td>https://pergamum.anac.gov.br/arquivos/PA2019-69</td>\n    </tr>\n    <tr>\n      <th>4</th>\n      <td>SNRY</td>\n      <td>MG0259</td>\n      <td>Bissoli</td>\n      <td>BELO HORIZONTE</td>\n      <td>Minas Gerais</td>\n      <td>043�56'06,0\"O</td>\n      <td>19�58'22,0\"S</td>\n      <td>1162</td>\n      <td>VFR Diurna</td>\n      <td>19</td>\n      <td>Quadrado</td>\n      <td>20m x 20m</td>\n      <td>4</td>\n      <td>Concreto</td>\n      <td>19/12/2023</td>\n      <td>PA2016-2100</td>\n      <td>https://pergamum.anac.gov.br/arquivos/PA2016-2100</td>\n    </tr>\n    <tr>\n      <th>...</th>\n      <td>...</td>\n      <td>...</td>\n      <td>...</td>\n      <td>...</td>\n      <td>...</td>\n      <td>...</td>\n      <td>...</td>\n      <td>...</td>\n      <td>...</td>\n      <td>...</td>\n      <td>...</td>\n      <td>...</td>\n      <td>...</td>\n      <td>...</td>\n      <td>...</td>\n      <td>...</td>\n      <td>...</td>\n    </tr>\n    <tr>\n      <th>1276</th>\n      <td>SSRI</td>\n      <td>BA0222</td>\n      <td>Ilhota dos Coqueiros</td>\n      <td>SALVADOR</td>\n      <td>Bahia</td>\n      <td>038�39'00,0\"O</td>\n      <td>12�45'59,0\"S</td>\n      <td>4</td>\n      <td>VFR Diurna/Noturna</td>\n      <td>NaN</td>\n      <td>Circular</td>\n      <td>28m x 28m</td>\n      <td>4,5</td>\n      <td>Concreto</td>\n      <td>01/03/2026</td>\n      <td>PA2016-0437</td>\n      <td>https://pergamum.anac.gov.br/arquivos/PA2016-0437</td>\n    </tr>\n    <tr>\n      <th>1277</th>\n      <td>SDZE</td>\n      <td>SP0458</td>\n      <td>Ita</td>\n      <td>ITAPECERICA DA SERRA</td>\n      <td>S�o Paulo</td>\n      <td>046�49'43,0\"O</td>\n      <td>23�42'05,0\"S</td>\n      <td>804</td>\n      <td>VFR Diurna/Noturna</td>\n      <td>NaN</td>\n      <td>Circular</td>\n      <td>12m x 12m</td>\n      <td>4</td>\n      <td>Concreto</td>\n      <td>14/09/2025</td>\n      <td>PA2015-2400</td>\n      <td>https://pergamum.anac.gov.br/arquivos/PA2015-2400</td>\n    </tr>\n    <tr>\n      <th>1278</th>\n      <td>SWCN</td>\n      <td>RJ0152</td>\n      <td>Instituto de Ci�ncias N�uticas</td>\n      <td>MARIC�</td>\n      <td>Rio de Janeiro</td>\n      <td>042�56'55,0\"O</td>\n      <td>22�56'04,0\"S</td>\n      <td>7</td>\n      <td>VFR Diurna</td>\n      <td>NaN</td>\n      <td>Circular</td>\n      <td>20m x 20m</td>\n      <td>3</td>\n      <td>Concreto</td>\n      <td>07/12/2027</td>\n      <td>PA2017-3941</td>\n      <td>https://pergamum.anac.gov.br/arquivos/PA2017-3941</td>\n    </tr>\n    <tr>\n      <th>1279</th>\n      <td>SIDD</td>\n      <td>AL0015</td>\n      <td>Fazenda S�o Braz</td>\n      <td>BARRA DE SANTO ANT�NIO</td>\n      <td>Alagoas</td>\n      <td>035�30'29,8\"O</td>\n      <td>09�22'46,5\"S</td>\n      <td>6</td>\n      <td>VFR Diurna</td>\n      <td>NaN</td>\n      <td>Circular</td>\n      <td>26m x 26m</td>\n      <td>3</td>\n      <td>Concreto</td>\n      <td>02/10/2025</td>\n      <td>PA2015-2604</td>\n      <td>https://pergamum.anac.gov.br/arquivos/PA2015-2604</td>\n    </tr>\n    <tr>\n      <th>1280</th>\n      <td>SJHB</td>\n      <td>PE0036</td>\n      <td>Real Hospital Portugu�s</td>\n      <td>RECIFE</td>\n      <td>Pernambuco</td>\n      <td>034�53'52,0\"O</td>\n      <td>08�03'50,0\"S</td>\n      <td>68</td>\n      <td>VFR Diurna/Noturna</td>\n      <td>NaN</td>\n      <td>Circular</td>\n      <td>18m x 18m</td>\n      <td>2</td>\n      <td>Concreto</td>\n      <td>NaN</td>\n      <td>NaN</td>\n      <td>NaN</td>\n    </tr>\n  </tbody>\n</table>\n<p>1281 rows × 17 columns</p>\n</div>"
     },
     "metadata": {},
     "execution_count": 37
    }
   ],
   "source": [
    "csv_file"
   ]
  },
  {
   "cell_type": "code",
   "execution_count": null,
   "metadata": {},
   "outputs": [],
   "source": []
  }
 ]
}