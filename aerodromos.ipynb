{
 "metadata": {
  "language_info": {
   "codemirror_mode": {
    "name": "ipython",
    "version": 3
   },
   "file_extension": ".py",
   "mimetype": "text/x-python",
   "name": "python",
   "nbconvert_exporter": "python",
   "pygments_lexer": "ipython3",
   "version": "3.7.10"
  },
  "orig_nbformat": 2,
  "kernelspec": {
   "name": "python3",
   "display_name": "Python 3.7.10 64-bit ('k37': conda)",
   "metadata": {
    "interpreter": {
     "hash": "ce6995e5260f3d17ba777f99880eb99bb4499d971ce283740a27659aee3a2981"
    }
   }
  }
 },
 "nbformat": 4,
 "nbformat_minor": 2,
 "cells": [
  {
   "cell_type": "code",
   "execution_count": 84,
   "metadata": {},
   "outputs": [],
   "source": [
    "import ipywidgets as ipw\n",
    "\n",
    "heliponto = ipw.Checkbox(value=False, description=\"Helipontos\")\n",
    "aero_publicos = ipw.Checkbox(value=False, description=\"Aeroportos Públicos\")\n",
    "aero_privados = ipw.Checkbox(value=False, description=\"Aeroportos Privados\")\n",
    "menu_stl = ipw.Dropdown(options=['cartodbdark_matter','cartodbpositron','stamenwatercolor','stamentoner','stamenterrain','openstreetmap'], description=\"Map Style\", value='openstreetmap')\n",
    "\n",
    "def mapa_aerodromo(heli, publico, privado, style):\n",
    "    import pandas as pd\n",
    "    from geopy.point import Point\n",
    "    import geopy\n",
    "    import folium\n",
    "\n",
    "    mapa = folium.Map(location=[-12.874031599126745, -54.48977276376553], zoom_start=4.5 ,tiles=style)\n",
    "\n",
    "    # Seção que adicionas os marcadores referentes aos helipontos\n",
    "    if heli:\n",
    "        csv_file = pd.read_csv(\"data/helipontos_11set2020.csv\", sep=\";\", skiprows=2)\n",
    "\n",
    "        latitude = csv_file.Latitude\n",
    "        longitude = csv_file.Longitude\n",
    "\n",
    "        for index in range(csv_file.shape[0]):\n",
    "\n",
    "            lat_Str = latitude[index].replace(chr(65533), \" \").replace(\"'\",\"m \").replace(\",\",\".\").replace('\"',\"s \")\n",
    "            lng_Str = (longitude[index][:-1] + \"W\").replace(chr(65533),\" \").replace(\"'\",\"m \").replace(\",\",\".\").replace('\"',\"s \")\n",
    "            lat, lng = Point(f'{lat_Str} {lng_Str}')[0:2]\n",
    "            coords = [lat,lng]\n",
    "            dim = csv_file.iloc[index,11]\n",
    "            alt = csv_file.iloc[index, 7]\n",
    "            msg = f'Coordenadas:<br>{lat:.5f},{lng:.5f}<br><br>Dimesões:<br>{dim}<br><br>Altitude: {alt}'\n",
    "            folium.Circle(location=coords, color=\"red\", fill=True, radius=15, popup=msg).add_to(mapa)\n",
    "\n",
    "    # Seção que adicionas os marcadores referentes aos aeroportos públicos\n",
    "    if publico:\n",
    "        csv_file = pd.read_csv(\"data/cadastro-de-aerodromos-civis-publicos.csv\", sep=\";\", skiprows=2)\n",
    "\n",
    "        latitude = csv_file.LATITUDE\n",
    "        longitude = csv_file.LONGITUDE\n",
    "\n",
    "        for index in range(csv_file.shape[0]):\n",
    "            lat, lng = Point(f'{latitude[index]} {longitude[index]}')[0:2]\n",
    "            coord = [lat, lng]\n",
    "            cod = csv_file.iloc[index,0]\n",
    "            alt = csv_file.iloc[index,7]\n",
    "            comp_1 = csv_file.iloc[index,10]\n",
    "            lgr_1 = csv_file.iloc[index, 11]\n",
    "            comp_2 = csv_file.iloc[index, 15]\n",
    "            lgr_2 = csv_file.iloc[index, 16]\n",
    "            msg = f'<b>{cod}{2*\"<br>\"}Coordenadas:<br>{lat:.5f},{lng:.5f}<br><br>Altitude:<br>{alt}{2*\"<br>\"}Comprimento:<br>{comp_1}{1*\"<br>\"}Largura:<br>{lgr_1}{2*\"<br>\"}Comprimento:<br>{comp_2}{1*\"<br>\"}Largura:<br>{lgr_2}'\n",
    "            folium.Circle(location=coord, color=\"blue\", fill=True, radius=700, popup=msg).add_to(mapa)\n",
    "\n",
    "    # Seção que adicionas os marcadores referentes aos aeroportos privados\n",
    "    if privado:\n",
    "        csv_file = pd.read_csv(\"data/cadastro-de-aerodromos-civis-privados.csv\", sep=\";\", skiprows=2)\n",
    "\n",
    "        latitude = csv_file.Latitude\n",
    "        longitude = csv_file.Longitude\n",
    "\n",
    "        for index in range(csv_file.shape[0]):\n",
    "\n",
    "            lat_Str = latitude[index].replace(chr(65533), \" \").replace(\"'\",\"m \").replace(\",\",\".\").replace('\"',\"s \")\n",
    "            lng_Str = (longitude[index][:-1] + \"W\").replace(chr(65533),\" \").replace(\"'\",\"m \").replace(\",\",\".\").replace('\"',\"s \")\n",
    "            \n",
    "            lat, lng = Point(f'{lat_Str} {lng_Str}')[0:2]\n",
    "            coords = [lat,lng]\n",
    "            folium.Circle(location=coords, color=\"green\", fill=True, radius=800).add_to(mapa)\n",
    "        \n",
    "\n",
    "    image_map = folium.Figure(width=1280, height=720)\n",
    "    image_map.add_child(mapa)\n",
    "\n",
    "    return image_map"
   ]
  },
  {
   "cell_type": "code",
   "execution_count": 85,
   "metadata": {},
   "outputs": [
    {
     "output_type": "display_data",
     "data": {
      "text/plain": "interactive(children=(Checkbox(value=False, description='Helipontos'), Checkbox(value=False, description='Aero…",
      "application/vnd.jupyter.widget-view+json": {
       "version_major": 2,
       "version_minor": 0,
       "model_id": "36797f6181c24ddea9415e683237909c"
      }
     },
     "metadata": {}
    },
    {
     "output_type": "execute_result",
     "data": {
      "text/plain": [
       "<function __main__.mapa_aerodromo(heli, publico, privado, style)>"
      ]
     },
     "metadata": {},
     "execution_count": 85
    }
   ],
   "source": [
    "ipw.interact(mapa_aerodromo, heli=heliponto, publico=aero_publicos, privado=aero_privados, style = menu_stl)"
   ]
  },
  {
   "cell_type": "code",
   "execution_count": 47,
   "metadata": {},
   "outputs": [],
   "source": [
    "csv_file = pd.read_csv(\"data/cadastro-de-aerodromos-civis-publicos.csv\", sep=\";\", skiprows=2)"
   ]
  },
  {
   "cell_type": "code",
   "execution_count": 57,
   "metadata": {},
   "outputs": [
    {
     "output_type": "execute_result",
     "data": {
      "text/plain": [
       "Index(['CÓDIGO OACI', 'CIAD', 'NOME', 'MUNICÍPIO ATENDIDO', 'UF', 'LATITUDE',\n",
       "       'LONGITUDE', 'ALTITUDE', 'OPERAÇÃO', 'DESIGNAÇÃO', 'COMPRIMENTO',\n",
       "       'LARGURA', 'RESISTÊNCIA', 'SUPERFÍCIE', 'DESIGNAÇÃO.1', 'COMPRIMENTO.1',\n",
       "       'LARGURA.1', 'RESISTÊNCIA.1', 'SUPERFÍCIE.1', 'DESIGNAÇÃO.2',\n",
       "       'COMPRIMENTO.2', 'LARGURA.2', 'RESISTÊNCIA.2', 'SUPERFÍCIE.2',\n",
       "       'RAMPA(S) DE APROXIMAÇÃO', 'FORMATO DA ÁREA DE POUSO', 'DIMENSÕES',\n",
       "       'RESISTÊNCIA.3', 'SUPERFÍCIE.3', 'p1', 'p2', 'p3', 'p4', 'PORTARIAS',\n",
       "       'Unnamed: 34', 'Unnamed: 35', 'Unnamed: 36',\n",
       "       'PORTARIA Nº 708/2020 E ALTERAÇÕES',\n",
       "       'PORTARIA Nº 1540/2020\\nA Classe I se divide ainda em I-A, sem voo regular e I-B, com voo regular',\n",
       "       'PORTARIA Nº 2007/2014 E ALTERAÇÕES\\n(* = REGIME TARIFÁRIO DIFERENCIADO)',\n",
       "       'AERONAVE CRÍTICA', 'TIPO DE APROX. (CABECEIRAS)', 'FREQ. SEMANAL',\n",
       "       'r1', 'r2', 'REFERÊNCIA(S)', 'RESTRIÇÃO(ÕES)', 'SITUAÇÃO', 'r1.1',\n",
       "       'REFERÊNCIA', 'SITUADO NA AMAZÔNIA LEGAL', 'OBSERVAÇÕES'],\n",
       "      dtype='object')"
      ]
     },
     "metadata": {},
     "execution_count": 57
    }
   ],
   "source": [
    "csv_file.columns"
   ]
  },
  {
   "cell_type": "code",
   "execution_count": 50,
   "metadata": {},
   "outputs": [],
   "source": []
  },
  {
   "cell_type": "code",
   "execution_count": 72,
   "metadata": {},
   "outputs": [
    {
     "output_type": "execute_result",
     "data": {
      "text/plain": [
       "COMPRIMENTO      1800 m\n",
       "LARGURA            30 m\n",
       "COMPRIMENTO.1         -\n",
       "LARGURA.1             -\n",
       "Name: 0, dtype: object"
      ]
     },
     "metadata": {},
     "execution_count": 72
    }
   ],
   "source": [
    "csv_file.iloc[0,[10,11,15,16]]"
   ]
  },
  {
   "cell_type": "code",
   "execution_count": 79,
   "metadata": {},
   "outputs": [
    {
     "output_type": "error",
     "ename": "TypeError",
     "evalue": "'Index' object is not callable",
     "traceback": [
      "\u001b[0;31m---------------------------------------------------------------------------\u001b[0m",
      "\u001b[0;31mTypeError\u001b[0m                                 Traceback (most recent call last)",
      "\u001b[0;32m<ipython-input-79-f0ab86fb3bdd>\u001b[0m in \u001b[0;36m<module>\u001b[0;34m\u001b[0m\n\u001b[0;32m----> 1\u001b[0;31m \u001b[0ms\u001b[0m \u001b[0;34m=\u001b[0m \u001b[0mcsv_file\u001b[0m\u001b[0;34m.\u001b[0m\u001b[0mcolumns\u001b[0m\u001b[0;34m(\u001b[0m\u001b[0;36m0\u001b[0m\u001b[0;34m)\u001b[0m\u001b[0;34m\u001b[0m\u001b[0;34m\u001b[0m\u001b[0m\n\u001b[0m",
      "\u001b[0;31mTypeError\u001b[0m: 'Index' object is not callable"
     ]
    }
   ],
   "source": []
  },
  {
   "cell_type": "code",
   "execution_count": 74,
   "metadata": {},
   "outputs": [
    {
     "output_type": "execute_result",
     "data": {
      "text/plain": [
       "Empty DataFrame\n",
       "Columns: [CÓDIGO OACI, CIAD, NOME, MUNICÍPIO ATENDIDO, UF, LATITUDE, LONGITUDE, ALTITUDE, OPERAÇÃO, DESIGNAÇÃO, COMPRIMENTO, LARGURA, RESISTÊNCIA, SUPERFÍCIE, DESIGNAÇÃO.1, COMPRIMENTO.1, LARGURA.1, RESISTÊNCIA.1, SUPERFÍCIE.1, DESIGNAÇÃO.2, COMPRIMENTO.2, LARGURA.2, RESISTÊNCIA.2, SUPERFÍCIE.2, RAMPA(S) DE APROXIMAÇÃO, FORMATO DA ÁREA DE POUSO, DIMENSÕES, RESISTÊNCIA.3, SUPERFÍCIE.3, p1, p2, p3, p4, PORTARIAS, Unnamed: 34, Unnamed: 35, Unnamed: 36, PORTARIA Nº 708/2020 E ALTERAÇÕES, PORTARIA Nº 1540/2020\n",
       "A Classe I se divide ainda em I-A, sem voo regular e I-B, com voo regular, PORTARIA Nº 2007/2014 E ALTERAÇÕES\n",
       "(* = REGIME TARIFÁRIO DIFERENCIADO), AERONAVE CRÍTICA, TIPO DE APROX. (CABECEIRAS), FREQ. SEMANAL, r1, r2, REFERÊNCIA(S), RESTRIÇÃO(ÕES), SITUAÇÃO, r1.1, REFERÊNCIA, SITUADO NA AMAZÔNIA LEGAL, OBSERVAÇÕES]\n",
       "Index: []\n",
       "\n",
       "[0 rows x 52 columns]"
      ],
      "text/html": "<div>\n<style scoped>\n    .dataframe tbody tr th:only-of-type {\n        vertical-align: middle;\n    }\n\n    .dataframe tbody tr th {\n        vertical-align: top;\n    }\n\n    .dataframe thead th {\n        text-align: right;\n    }\n</style>\n<table border=\"1\" class=\"dataframe\">\n  <thead>\n    <tr style=\"text-align: right;\">\n      <th></th>\n      <th>CÓDIGO OACI</th>\n      <th>CIAD</th>\n      <th>NOME</th>\n      <th>MUNICÍPIO ATENDIDO</th>\n      <th>UF</th>\n      <th>LATITUDE</th>\n      <th>LONGITUDE</th>\n      <th>ALTITUDE</th>\n      <th>OPERAÇÃO</th>\n      <th>DESIGNAÇÃO</th>\n      <th>...</th>\n      <th>FREQ. SEMANAL</th>\n      <th>r1</th>\n      <th>r2</th>\n      <th>REFERÊNCIA(S)</th>\n      <th>RESTRIÇÃO(ÕES)</th>\n      <th>SITUAÇÃO</th>\n      <th>r1.1</th>\n      <th>REFERÊNCIA</th>\n      <th>SITUADO NA AMAZÔNIA LEGAL</th>\n      <th>OBSERVAÇÕES</th>\n    </tr>\n  </thead>\n  <tbody>\n  </tbody>\n</table>\n<p>0 rows × 52 columns</p>\n</div>"
     },
     "metadata": {},
     "execution_count": 74
    }
   ],
   "source": [
    "s"
   ]
  },
  {
   "cell_type": "code",
   "execution_count": null,
   "metadata": {},
   "outputs": [],
   "source": []
  }
 ]
}