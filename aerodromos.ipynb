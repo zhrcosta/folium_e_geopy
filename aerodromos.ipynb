{
 "metadata": {
  "language_info": {
   "codemirror_mode": {
    "name": "ipython",
    "version": 3
   },
   "file_extension": ".py",
   "mimetype": "text/x-python",
   "name": "python",
   "nbconvert_exporter": "python",
   "pygments_lexer": "ipython3",
   "version": "3.7.10"
  },
  "orig_nbformat": 2,
  "kernelspec": {
   "name": "python3",
   "display_name": "Python 3.7.10 64-bit ('k37': conda)",
   "metadata": {
    "interpreter": {
     "hash": "ce6995e5260f3d17ba777f99880eb99bb4499d971ce283740a27659aee3a2981"
    }
   }
  }
 },
 "nbformat": 4,
 "nbformat_minor": 2,
 "cells": [
  {
   "cell_type": "code",
   "execution_count": null,
   "metadata": {},
   "outputs": [],
   "source": [
    "import ipywidgets as ipw\n",
    "\n",
    "heliponto = ipw.Checkbox(value=False, description=\"Helipontos\")\n",
    "aero_publicos = ipw.Checkbox(value=False, description=\"Aeroportos Públicos\")\n",
    "aero_privados = ipw.Checkbox(value=False, description=\"Aeroportos Privados\")\n",
    "\n",
    "def mapa_aerodromo(heli, publico, privado):\n",
    "    import pandas as pd\n",
    "    import geopy\n",
    "    import folium\n",
    "\n",
    "    name = geopy.Nominatim(user_agent=\"test\")\n",
    "    place = name.geocode(\"Brasil\")\n",
    "\n",
    "    mapa = folium.Map(location=[place.latitude, place.longitude], tiles=\"CartoDB dark_matter\")\n",
    "\n",
    "    if heli:\n",
    "        pass\n",
    "\n",
    "    if publico:\n",
    "        pass\n",
    "    \n",
    "    if privado:\n",
    "        pass\n",
    "\n",
    "    image_map = folium.Figure(width=1280, height=720)\n",
    "    image_map.add_child(mapa)\n",
    "\n",
    "    return image_map"
   ]
  }
 ]
}