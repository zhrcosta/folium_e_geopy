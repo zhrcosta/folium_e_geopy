{
 "metadata": {
  "language_info": {
   "codemirror_mode": {
    "name": "ipython",
    "version": 3
   },
   "file_extension": ".py",
   "mimetype": "text/x-python",
   "name": "python",
   "nbconvert_exporter": "python",
   "pygments_lexer": "ipython3",
   "version": "3.7.10"
  },
  "orig_nbformat": 2,
  "kernelspec": {
   "name": "python3",
   "display_name": "Python 3.7.10 64-bit ('k37': conda)",
   "metadata": {
    "interpreter": {
     "hash": "ce6995e5260f3d17ba777f99880eb99bb4499d971ce283740a27659aee3a2981"
    }
   }
  }
 },
 "nbformat": 4,
 "nbformat_minor": 2,
 "cells": [
  {
   "cell_type": "code",
   "execution_count": 110,
   "metadata": {},
   "outputs": [],
   "source": [
    "import ipywidgets as ipw\n",
    "\n",
    "heliponto = ipw.Checkbox(value=False, description=\"Helipontos\")\n",
    "aero_publicos = ipw.Checkbox(value=False, description=\"Aeroportos Públicos\")\n",
    "aero_privados = ipw.Checkbox(value=False, description=\"Aeroportos Privados\")\n",
    "menu_stl = ipw.Dropdown(options=['cartodbdark_matter','cartodbpositron','stamenwatercolor','stamentoner','stamenterrain','openstreetmap'], description=\"Map Style\", value='openstreetmap')\n",
    "\n",
    "def mapa_aerodromo(heli, publico, privado, style):\n",
    "    import pandas as pd\n",
    "    from geopy.point import Point\n",
    "    import geopy\n",
    "    import folium\n",
    "\n",
    "    mapa = folium.Map(location=[-12.874031599126745, -54.48977276376553], zoom_start=4.5 ,tiles=style)\n",
    "\n",
    "    # Seção que adicionas os marcadores referentes aos helipontos\n",
    "    if heli:\n",
    "        csv_file = pd.read_csv(\"data/helipontos_11set2020.csv\", sep=\";\", skiprows=2)\n",
    "\n",
    "        latitude = csv_file.Latitude\n",
    "        longitude = csv_file.Longitude\n",
    "\n",
    "        for index in range(csv_file.shape[0]):\n",
    "\n",
    "            lat_Str = latitude[index].replace(chr(65533), \" \").replace(\"'\",\"m \").replace(\",\",\".\").replace('\"',\"s \")\n",
    "            lng_Str = (longitude[index][:-1] + \"W\").replace(chr(65533),\" \").replace(\"'\",\"m \").replace(\",\",\".\").replace('\"',\"s \")\n",
    "            lat, lng = Point(f'{lat_Str} {lng_Str}')[0:2]\n",
    "            coords = [lat,lng]\n",
    "            dim = csv_file.iloc[index,11]\n",
    "            alt = csv_file.iloc[index, 7]\n",
    "            msg = f'Coordenadas:<br>{lat:.5f}, {lng:.5f}<br><br>Dimesões:<br>{dim}<br><br>Altitude: {alt}'\n",
    "            folium.Circle(location=coords, color=\"red\", fill=True, radius=15, popup=msg).add_to(mapa)\n",
    "\n",
    "    # Seção que adicionas os marcadores referentes aos aeroportos públicos\n",
    "    if publico:\n",
    "        csv_file = pd.read_csv(\"data/cadastro-de-aerodromos-civis-publicos.csv\", sep=\";\", skiprows=2)\n",
    "\n",
    "        latitude = csv_file.LATITUDE\n",
    "        longitude = csv_file.LONGITUDE\n",
    "\n",
    "        for index in range(csv_file.shape[0]):\n",
    "            lat, lng = Point(f'{latitude[index]} {longitude[index]}')[0:2]\n",
    "            coord = [lat, lng]\n",
    "            cod = csv_file.iloc[index,0]\n",
    "            alt = csv_file.iloc[index,7]\n",
    "            comp_1 = csv_file.iloc[index,10]\n",
    "            lgr_1 = csv_file.iloc[index, 11]\n",
    "            comp_2 = csv_file.iloc[index, 15]\n",
    "            lgr_2 = csv_file.iloc[index, 16]\n",
    "            msg = f'<b>{cod}{2*\"<br>\"}Coordenadas:<br>{lat:.5f}, {lng:.5f}<br><br>Altitude:<br>{alt}{2*\"<br>\"}Comprimento:<br>{comp_1}{1*\"<br>\"}Largura:<br>{lgr_1}{2*\"<br>\"}Comprimento:<br>{comp_2}{1*\"<br>\"}Largura:<br>{lgr_2}'\n",
    "            folium.Circle(location=coord, color=\"blue\", fill=True, radius=700, popup=msg).add_to(mapa)\n",
    "\n",
    "    # Seção que adicionas os marcadores referentes aos aeroportos privados\n",
    "    if privado:\n",
    "        csv_file = pd.read_csv(\"data/cadastro-de-aerodromos-civis-privados.csv\", sep=\";\", skiprows=2)\n",
    "\n",
    "        latitude = csv_file.Latitude\n",
    "        longitude = csv_file.Longitude\n",
    "\n",
    "        for index in range(csv_file.shape[0]):\n",
    "\n",
    "            lat_Str = latitude[index].replace(chr(65533), \" \").replace(\"'\",\"m \").replace(\",\",\".\").replace('\"',\"s \")\n",
    "            lng_Str = (longitude[index][:-1] + \"W\").replace(chr(65533),\" \").replace(\"'\",\"m \").replace(\",\",\".\").replace('\"',\"s \")\n",
    "            \n",
    "            lat, lng = Point(f'{lat_Str} {lng_Str}')[0:2]\n",
    "            coords = [lat,lng]\n",
    "            cod = csv_file.iloc[index,0]\n",
    "            alt = csv_file.iloc[index,7]\n",
    "            comp = csv_file.iloc[index,10]\n",
    "            lgr = csv_file.iloc[index,11]\n",
    "            \n",
    "            \n",
    "            msg = f'<b>{cod}<b>{2*\"<br>\"}Coordenadas:<br>{lat:.5f}, {lng:.5f}{2*\"<br>\"}Altitude:<br>{alt}{2*\"<br>\"}Comprimento:<br>{comp}{2*\"<br>\"}Largura:<br>{lgr}'\n",
    "            folium.Circle(location=coords, color=\"green\", fill=True, radius=800, popup=msg).add_to(mapa)\n",
    "        \n",
    "\n",
    "    image_map = folium.Figure(width=1280, height=720)\n",
    "    image_map.add_child(mapa)\n",
    "\n",
    "    return image_map"
   ]
  },
  {
   "cell_type": "code",
   "execution_count": 111,
   "metadata": {},
   "outputs": [
    {
     "output_type": "display_data",
     "data": {
      "text/plain": "interactive(children=(Checkbox(value=False, description='Helipontos'), Checkbox(value=False, description='Aero…",
      "application/vnd.jupyter.widget-view+json": {
       "version_major": 2,
       "version_minor": 0,
       "model_id": "8d9aa551c1b044ebb1382a608ee4a620"
      }
     },
     "metadata": {}
    },
    {
     "output_type": "execute_result",
     "data": {
      "text/plain": [
       "<function __main__.mapa_aerodromo(heli, publico, privado, style)>"
      ]
     },
     "metadata": {},
     "execution_count": 111
    }
   ],
   "source": [
    "ipw.interact(mapa_aerodromo, heli=heliponto, publico=aero_publicos, privado=aero_privados, style = menu_stl)"
   ]
  }
 ]
}