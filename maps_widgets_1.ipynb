{
 "metadata": {
  "language_info": {
   "codemirror_mode": {
    "name": "ipython",
    "version": 3
   },
   "file_extension": ".py",
   "mimetype": "text/x-python",
   "name": "python",
   "nbconvert_exporter": "python",
   "pygments_lexer": "ipython3",
   "version": "3.7.10-final"
  },
  "orig_nbformat": 2,
  "kernelspec": {
   "name": "python3",
   "display_name": "Python 3.7.10 64-bit ('k37': conda)",
   "metadata": {
    "interpreter": {
     "hash": "ce6995e5260f3d17ba777f99880eb99bb4499d971ce283740a27659aee3a2981"
    }
   }
  }
 },
 "nbformat": 4,
 "nbformat_minor": 2,
 "cells": [
  {
   "cell_type": "code",
   "execution_count": 29,
   "metadata": {},
   "outputs": [],
   "source": [
    "import ipywidgets as ipw\n",
    "\n",
    "sp = ipw.Checkbox(value=False, description=\"São Paulo\")\n",
    "rj = ipw.Checkbox(value=False, description=\"Rio de Janeiro\")\n",
    "\n",
    "def mapa(country, uf1, uf2):\n",
    "\n",
    "    import folium\n",
    "    import geopy\n",
    "\n",
    "    name = geopy.Nominatim(user_agent=\"test\")\n",
    "    place = name.geocode(country)\n",
    "    coord = [place.latitude, place.longitude]\n",
    "\n",
    "\n",
    "    m = folium.Map(location=coord, zoom_start=4.5, tiles=\"CartoDB dark_matter\")\n",
    "\n",
    "    if uf1:\n",
    "        uf_place = name.geocode(\"São Paulo\")\n",
    "        folium.Circle(location=[uf_place.latitude, uf_place.longitude], color=\"red\", fill=True, radius=2000).add_to(m)\n",
    "    \n",
    "    if uf2:\n",
    "        uf_place = name.geocode(\"Rio de Janeiro\")\n",
    "        folium.Circle(location=[uf_place.latitude, uf_place.longitude], color=\"red\", fill=True, radius=2000).add_to(m)\n",
    "\n",
    "    image_map = folium.Figure(width=1280, height=720)\n",
    "    image_map.add_child(m)\n",
    "\n",
    "    return image_map"
   ]
  },
  {
   "cell_type": "code",
   "execution_count": 30,
   "metadata": {},
   "outputs": [
    {
     "output_type": "display_data",
     "data": {
      "text/plain": "interactive(children=(Text(value='Brasil', description='country'), Checkbox(value=False, description='São Paul…",
      "application/vnd.jupyter.widget-view+json": {
       "version_major": 2,
       "version_minor": 0,
       "model_id": "f758b65133844f8fbff65bd4fcb5931f"
      }
     },
     "metadata": {}
    },
    {
     "output_type": "execute_result",
     "data": {
      "text/plain": [
       "<function __main__.mapa(country, uf1, uf2)>"
      ]
     },
     "metadata": {},
     "execution_count": 30
    }
   ],
   "source": [
    "ipw.interact(mapa,country=\"Brasil\", uf1=sp, uf2=rj)"
   ]
  },
  {
   "cell_type": "code",
   "execution_count": 62,
   "metadata": {},
   "outputs": [],
   "source": [
    "# ipw.interact(mapa, place=place_coord, uf1=sp, uf2=rj)"
   ]
  },
  {
   "cell_type": "code",
   "execution_count": null,
   "metadata": {},
   "outputs": [],
   "source": []
  }
 ]
}