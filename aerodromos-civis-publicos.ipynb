{
 "metadata": {
  "language_info": {
   "codemirror_mode": {
    "name": "ipython",
    "version": 3
   },
   "file_extension": ".py",
   "mimetype": "text/x-python",
   "name": "python",
   "nbconvert_exporter": "python",
   "pygments_lexer": "ipython3",
   "version": "3.7.10-final"
  },
  "orig_nbformat": 2,
  "kernelspec": {
   "name": "python3",
   "display_name": "Python 3.7.10 64-bit ('k37': conda)",
   "metadata": {
    "interpreter": {
     "hash": "ce6995e5260f3d17ba777f99880eb99bb4499d971ce283740a27659aee3a2981"
    }
   }
  }
 },
 "nbformat": 4,
 "nbformat_minor": 2,
 "cells": [
  {
   "cell_type": "code",
   "execution_count": 17,
   "metadata": {},
   "outputs": [],
   "source": [
    "from geopy.point import Point\n",
    "from geopy.geocoders import Nominatim\n",
    "import pandas as pd\n",
    "import folium"
   ]
  },
  {
   "cell_type": "code",
   "execution_count": 18,
   "metadata": {},
   "outputs": [],
   "source": [
    "csv_file = pd.read_csv(\"data/cadastro-de-aerodromos-civis-publicos.csv\", sep=\";\", skiprows=2)"
   ]
  },
  {
   "cell_type": "code",
   "execution_count": 19,
   "metadata": {},
   "outputs": [],
   "source": [
    "latitude = csv_file.LATITUDE\n",
    "longitude = csv_file.LONGITUDE"
   ]
  },
  {
   "cell_type": "code",
   "execution_count": 37,
   "metadata": {},
   "outputs": [],
   "source": [
    "name = Nominatim(user_agent=\"test\")\n",
    "place = name.geocode(\"Brasil\")\n",
    "airports = folium.Map(location=[place.latitude, place.longitude], zoom_start=4.5, tiles=\"CartoDB dark_matter\")\n",
    "\n",
    "for index in range(csv_file.shape[0]):\n",
    "    lat, lng = Point(f'{latitude[index]} {longitude[index]}')[0:2]\n",
    "    coord = [lat, lng]\n",
    "    folium.Circle(location=coord, color=\"blue\", fill=True, radius=700).add_to(airports)\n",
    "\n",
    "image_map = folium.Figure(width=1920, height=1080)\n",
    "image_map.add_child(airports)\n",
    "\n",
    "airports.save(\"maps/aeroportos_do_brasil.html\")"
   ]
  },
  {
   "cell_type": "code",
   "execution_count": null,
   "metadata": {},
   "outputs": [],
   "source": [
    "# image_map"
   ]
  }
 ]
}